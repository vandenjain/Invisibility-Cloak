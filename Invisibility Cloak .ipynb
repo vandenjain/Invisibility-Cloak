{
 "cells": [
  {
   "cell_type": "code",
   "execution_count": 2,
   "metadata": {},
   "outputs": [],
   "source": [
    "import numpy as np\n",
    "import cv2 \n",
    "import time"
   ]
  },
  {
   "cell_type": "code",
   "execution_count": 85,
   "metadata": {},
   "outputs": [],
   "source": [
    "cap = cv2.VideoCapture(0)\n",
    "time.sleep(3)\n",
    "\n",
    "for i in range(30):\n",
    "    retval,background = cap.read()\n",
    "background = np.flip(background, axis=1)\n",
    "\n",
    "while(cap.isOpened()):\n",
    "    check, img = cap.read()\n",
    "    if check == False:\n",
    "        break\n",
    "    img = np.flip(img, axis=1)\n",
    "    hsv = cv2.cvtColor(img, cv2.COLOR_BGR2HSV)\n",
    "    lower_red = np.array([0,120,70])\n",
    "    upper_red = np.array([10, 255,255])\n",
    "    mask1 = cv2.inRange(hsv, lower_red, upper_red)\n",
    "    lower_red = np.array([170,120, 70])\n",
    "    upper_red = np.array([180, 225, 225])\n",
    "    mask2 = cv2.inRange(hsv, lower_red, upper_red)\n",
    "    mask = mask1+mask2\n",
    "    mask1 = cv2.morphologyEx(mask1,cv2.MORPH_OPEN, np.ones((2,2), np.uint8), iterations = 2)\n",
    "    mask1 = cv2.morphologyEx(mask1,cv2.MORPH_DILATE, np.ones((2,2), np.uint8), iterations = 5)\n",
    "    mask2 = cv2.bitwise_not(mask1)\n",
    "    res1 = cv2.bitwise_and(img, img, mask= mask2)\n",
    "    res2 = cv2.bitwise_and(background,background, mask= mask1)\n",
    "    \n",
    "    final = cv2.addWeighted(res1, 1, res2, 1, 0)\n",
    "    cv2.imshow(\"final\", final)\n",
    "    key = cv2.waitKey(1)\n",
    "    if key == ord('q'):\n",
    "        break\n",
    "        \n",
    "cap.release()\n",
    "cv2.destroyAllWindows()"
   ]
  },
  {
   "cell_type": "code",
   "execution_count": null,
   "metadata": {},
   "outputs": [],
   "source": []
  },
  {
   "cell_type": "code",
   "execution_count": null,
   "metadata": {},
   "outputs": [],
   "source": []
  }
 ],
 "metadata": {
  "kernelspec": {
   "display_name": "Python 3",
   "language": "python",
   "name": "python3"
  },
  "language_info": {
   "codemirror_mode": {
    "name": "ipython",
    "version": 3
   },
   "file_extension": ".py",
   "mimetype": "text/x-python",
   "name": "python",
   "nbconvert_exporter": "python",
   "pygments_lexer": "ipython3",
   "version": "3.7.6"
  }
 },
 "nbformat": 4,
 "nbformat_minor": 4
}
